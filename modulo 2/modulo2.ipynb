{
 "cells": [
  {
   "cell_type": "code",
   "execution_count": 6,
   "metadata": {},
   "outputs": [
    {
     "name": "stdout",
     "output_type": "stream",
     "text": [
      "O faturamento da loja foi 1500\n",
      "O custo da loja foi 500\n",
      "Assim, o lucro da loja foi de 1000 reais\n"
     ]
    }
   ],
   "source": [
    "faturamento = 1500\n",
    "custo = 500\n",
    "lucro = faturamento - custo\n",
    "\n",
    "print ('O faturamento da loja foi ' + str(faturamento))\n",
    "print ('O custo da loja foi ' + str(custo))\n",
    "print('Assim, o lucro da loja foi de ' + str(lucro) + ' reais')"
   ]
  },
  {
   "cell_type": "markdown",
   "metadata": {},
   "source": [
    "Metodo format"
   ]
  },
  {
   "cell_type": "code",
   "execution_count": 10,
   "metadata": {},
   "outputs": [
    {
     "name": "stdout",
     "output_type": "stream",
     "text": [
      "O faturamento da loja foi 2000. O custo da loja foi 500. Assim, o lucro da loja foi 1500.\n"
     ]
    }
   ],
   "source": [
    "faturamento = 2000\n",
    "custo = 500\n",
    "lucro = faturamento - custo\n",
    "\n",
    "print('O faturamento da loja foi {}. O custo da loja foi {}. Assim, o lucro da loja foi {}.'.format(faturamento, custo, lucro))"
   ]
  }
 ],
 "metadata": {
  "kernelspec": {
   "display_name": "Python 3",
   "language": "python",
   "name": "python3"
  },
  "language_info": {
   "codemirror_mode": {
    "name": "ipython",
    "version": 3
   },
   "file_extension": ".py",
   "mimetype": "text/x-python",
   "name": "python",
   "nbconvert_exporter": "python",
   "pygments_lexer": "ipython3",
   "version": "3.11.3"
  }
 },
 "nbformat": 4,
 "nbformat_minor": 2
}

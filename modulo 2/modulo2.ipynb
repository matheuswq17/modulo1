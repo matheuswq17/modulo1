{
 "cells": [
  {
   "cell_type": "code",
   "execution_count": 6,
   "metadata": {},
   "outputs": [
    {
     "name": "stdout",
     "output_type": "stream",
     "text": [
      "O faturamento da loja foi 1500\n",
      "O custo da loja foi 500\n",
      "Assim, o lucro da loja foi de 1000 reais\n"
     ]
    }
   ],
   "source": [
    "faturamento = 1500\n",
    "custo = 500\n",
    "lucro = faturamento - custo\n",
    "\n",
    "print ('O faturamento da loja foi ' + str(faturamento))\n",
    "print ('O custo da loja foi ' + str(custo))\n",
    "print('Assim, o lucro da loja foi de ' + str(lucro) + ' reais')"
   ]
  },
  {
   "cell_type": "markdown",
   "metadata": {},
   "source": [
    "Metodo format"
   ]
  },
  {
   "cell_type": "code",
   "execution_count": 10,
   "metadata": {},
   "outputs": [
    {
     "name": "stdout",
     "output_type": "stream",
     "text": [
      "O faturamento da loja foi 2000. O custo da loja foi 500. Assim, o lucro da loja foi 1500.\n"
     ]
    }
   ],
   "source": [
    "faturamento = 2000\n",
    "custo = 500\n",
    "lucro = faturamento - custo\n",
    "\n",
    "print('O faturamento da loja foi {}. O custo da loja foi {}. Assim, o lucro da loja foi {}.'.format(faturamento, custo, lucro))"
   ]
  },
  {
   "cell_type": "markdown",
   "metadata": {},
   "source": [
    "Fstring"
   ]
  },
  {
   "cell_type": "code",
   "execution_count": 11,
   "metadata": {},
   "outputs": [
    {
     "name": "stdout",
     "output_type": "stream",
     "text": [
      "O faturamento foi de 1000 e o lucro de 600\n",
      "O faturamento foi de 1000 e o lucro de 600\n"
     ]
    }
   ],
   "source": [
    "faturamento = 1000\n",
    "custo = 400 \n",
    "\n",
    "lucro = faturamento - custo\n",
    "\n",
    "#com format\n",
    "print ('O faturamento foi de {} e o lucro de {}'.format(faturamento, lucro))\n",
    "\n",
    "#com f-string (APENAS COLOCAR F ANTES DA STRING E COLOCAR A VARIAVEL DENTRO DAS {})\n",
    "print(f'O faturamento foi de {faturamento} e o lucro de {faturamento - custo}')"
   ]
  },
  {
   "cell_type": "markdown",
   "metadata": {},
   "source": [
    "MUDANÇA DE TIPO DE VARIAVEL"
   ]
  },
  {
   "cell_type": "code",
   "execution_count": 14,
   "metadata": {},
   "outputs": [
    {
     "name": "stdout",
     "output_type": "stream",
     "text": [
      "<class 'int'>\n",
      "<class 'int'>\n",
      "121130000\n"
     ]
    }
   ],
   "source": [
    "faturamento = int (input ('insira o faturamento'))\n",
    "custo = int (input('insira o custo'))\n",
    "\n",
    "print (type(faturamento))\n",
    "print (type(custo))\n",
    "\n",
    "lucro = faturamento - custo\n",
    "print (lucro)\n",
    "\n",
    "#str -> muda pra string\n",
    "#int -> muda pra inteiro\n",
    "#float -> muda pra float"
   ]
  }
 ],
 "metadata": {
  "kernelspec": {
   "display_name": "Python 3",
   "language": "python",
   "name": "python3"
  },
  "language_info": {
   "codemirror_mode": {
    "name": "ipython",
    "version": 3
   },
   "file_extension": ".py",
   "mimetype": "text/x-python",
   "name": "python",
   "nbconvert_exporter": "python",
   "pygments_lexer": "ipython3",
   "version": "3.11.3"
  }
 },
 "nbformat": 4,
 "nbformat_minor": 2
}
